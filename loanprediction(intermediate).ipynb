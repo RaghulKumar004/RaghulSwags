{
  "nbformat": 4,
  "nbformat_minor": 0,
  "metadata": {
    "colab": {
      "provenance": [],
      "authorship_tag": "ABX9TyPm15X4U2eBN2fN+iXE4Qmn",
      "include_colab_link": true
    },
    "kernelspec": {
      "name": "python3",
      "display_name": "Python 3"
    },
    "language_info": {
      "name": "python"
    }
  },
  "cells": [
    {
      "cell_type": "markdown",
      "metadata": {
        "id": "view-in-github",
        "colab_type": "text"
      },
      "source": [
        "<a href=\"https://colab.research.google.com/github/RaghulKumar004/RaghulSwags/blob/main/loanprediction(intermediate).ipynb\" target=\"_parent\"><img src=\"https://colab.research.google.com/assets/colab-badge.svg\" alt=\"Open In Colab\"/></a>"
      ]
    },
    {
      "cell_type": "code",
      "source": [
        "import pandas as pd\n",
        "import numpy as np\n",
        "from sklearn.model_selection import train_test_split\n",
        "from sklearn.preprocessing import StandardScaler, LabelEncoder\n",
        "from sklearn.linear_model import LogisticRegression\n",
        "from sklearn.metrics import accuracy_score, confusion_matrix, classification_report\n",
        "\n",
        "data_path = '/content/loan_prediction.csv'\n",
        "data = pd.read_csv(data_path)\n",
        "\n",
        "data.drop(columns=['Loan_ID'], inplace=True, errors='ignore')\n",
        "\n",
        "def preprocess_data(df):\n",
        "    numeric_cols = df.select_dtypes(include=[np.number]).columns\n",
        "    df[numeric_cols] = df[numeric_cols].fillna(df[numeric_cols].mean())\n",
        "\n",
        "    categorical_cols = df.select_dtypes(include=[object]).columns\n",
        "    df[categorical_cols] = df[categorical_cols].apply(lambda x: x.fillna(x.mode()[0]))\n",
        "\n",
        "    label_encoders = {}\n",
        "    for col in categorical_cols:\n",
        "        label_encoders[col] = LabelEncoder()\n",
        "        df[col] = label_encoders[col].fit_transform(df[col])\n",
        "\n",
        "    return df, label_encoders\n",
        "\n",
        "data, label_encoders = preprocess_data(data)\n",
        "X = data.drop('Loan_Status', axis=1)\n",
        "y = data['Loan_Status']\n",
        "\n",
        "X_train, X_test, y_train, y_test = train_test_split(X, y, test_size=0.2, random_state=42)\n",
        "\n",
        "scaler = StandardScaler()\n",
        "X_train = scaler.fit_transform(X_train)\n",
        "X_test = scaler.transform(X_test)\n",
        "\n",
        "model = LogisticRegression()\n",
        "model.fit(X_train, y_train)\n",
        "\n",
        "def predict_loan_eligibility():\n",
        "    applicant_data = {\n",
        "        'Gender': input(\"Gender (Male/Female): \"),\n",
        "        'Married': input(\"Married (Yes/No): \"),\n",
        "        'Dependents': input(\"Dependents (0/1/2/3+): \"),\n",
        "        'Education': input(\"Education (Graduate/Not Graduate): \"),\n",
        "        'Self_Employed': input(\"Self Employed (Yes/No): \"),\n",
        "        'ApplicantIncome': float(input(\"Applicant Income: \")),\n",
        "        'CoapplicantIncome': float(input(\"Coapplicant Income: \")),\n",
        "        'LoanAmount': float(input(\"Loan Amount: \")),\n",
        "        'Loan_Amount_Term': float(input(\"Loan Amount Term: \")),\n",
        "        'Credit_History': float(input(\"Credit History (0 or 1): \")),\n",
        "        'Property_Area': input(\"Property Area (Urban/Semiurban/Rural): \")\n",
        "    }\n",
        "\n",
        "    applicant_df = pd.DataFrame([applicant_data])\n",
        "\n",
        "    missing_cols = set(X.columns) - set(applicant_df.columns)\n",
        "    for col in missing_cols:\n",
        "        applicant_df[col] = 0\n",
        "\n",
        "    for col in label_encoders.keys():\n",
        "        if col in applicant_df.columns:\n",
        "            if applicant_df[col].iloc[0] in label_encoders[col].classes_:\n",
        "                applicant_df[col] = label_encoders[col].transform(applicant_df[col])\n",
        "            else:\n",
        "                print(f\"Warning: {applicant_df[col].iloc[0]} not seen before in column {col}.\")\n",
        "                applicant_df[col] = -1\n",
        "\n",
        "    applicant_df = applicant_df[X.columns]\n",
        "    applicant_df = scaler.transform(applicant_df)\n",
        "    prediction = model.predict(applicant_df)\n",
        "\n",
        "    return 'Approved' if prediction[0] == 1 else 'Rejected'\n",
        "\n",
        "result = predict_loan_eligibility()\n",
        "print(f'Loan Eligibility: {result}')\n"
      ],
      "metadata": {
        "colab": {
          "base_uri": "https://localhost:8080/"
        },
        "id": "SKs-gRJI4upC",
        "outputId": "24f005a3-ef3f-4eec-dec5-c22c42994a34"
      },
      "execution_count": 17,
      "outputs": [
        {
          "output_type": "stream",
          "name": "stdout",
          "text": [
            "Gender (Male/Female): Male\n",
            "Married (Yes/No): Yes\n",
            "Dependents (0/1/2/3+): 2\n",
            "Education (Graduate/Not Graduate): Graduate\n",
            "Self Employed (Yes/No): Yes\n",
            "Applicant Income: 10000\n",
            "Coapplicant Income: 20000\n",
            "Loan Amount: 100000\n",
            "Loan Amount Term: 2000\n",
            "Credit History (0 or 1): 0\n",
            "Property Area (Urban/Semiurban/Rural): Urban\n",
            "Loan Eligibility: Rejected\n"
          ]
        }
      ]
    }
  ]
}